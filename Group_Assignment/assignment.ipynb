{
 "cells": [
  {
   "cell_type": "markdown",
   "id": "78aaeb73",
   "metadata": {},
   "source": [
    "Can use this to install all "
   ]
  },
  {
   "cell_type": "code",
   "execution_count": 2,
   "id": "8e86d6ac",
   "metadata": {},
   "outputs": [
    {
     "name": "stderr",
     "output_type": "stream",
     "text": [
      "\n",
      "[notice] A new release of pip is available: 24.3.1 -> 25.1.1\n",
      "[notice] To update, run: python.exe -m pip install --upgrade pip\n",
      "ERROR: Could not open requirements file: [Errno 2] No such file or directory: 'requirment.txt'\n"
     ]
    }
   ],
   "source": [
    "! pip install -r requirment.txt"
   ]
  },
  {
   "cell_type": "code",
   "execution_count": 3,
   "id": "95744727",
   "metadata": {},
   "outputs": [
    {
     "name": "stdout",
     "output_type": "stream",
     "text": [
      "Requirement already satisfied: tf-keras in c:\\users\\lenovo\\onedrive\\desktop\\ai_application\\venv\\lib\\site-packages (2.19.0)\n",
      "Requirement already satisfied: tensorflow<2.20,>=2.19 in c:\\users\\lenovo\\onedrive\\desktop\\ai_application\\venv\\lib\\site-packages (from tf-keras) (2.19.0)\n",
      "Requirement already satisfied: absl-py>=1.0.0 in c:\\users\\lenovo\\onedrive\\desktop\\ai_application\\venv\\lib\\site-packages (from tensorflow<2.20,>=2.19->tf-keras) (2.3.1)\n",
      "Requirement already satisfied: astunparse>=1.6.0 in c:\\users\\lenovo\\onedrive\\desktop\\ai_application\\venv\\lib\\site-packages (from tensorflow<2.20,>=2.19->tf-keras) (1.6.3)\n",
      "Requirement already satisfied: flatbuffers>=24.3.25 in c:\\users\\lenovo\\onedrive\\desktop\\ai_application\\venv\\lib\\site-packages (from tensorflow<2.20,>=2.19->tf-keras) (25.2.10)\n",
      "Requirement already satisfied: gast!=0.5.0,!=0.5.1,!=0.5.2,>=0.2.1 in c:\\users\\lenovo\\onedrive\\desktop\\ai_application\\venv\\lib\\site-packages (from tensorflow<2.20,>=2.19->tf-keras) (0.6.0)\n",
      "Requirement already satisfied: google-pasta>=0.1.1 in c:\\users\\lenovo\\onedrive\\desktop\\ai_application\\venv\\lib\\site-packages (from tensorflow<2.20,>=2.19->tf-keras) (0.2.0)\n",
      "Requirement already satisfied: libclang>=13.0.0 in c:\\users\\lenovo\\onedrive\\desktop\\ai_application\\venv\\lib\\site-packages (from tensorflow<2.20,>=2.19->tf-keras) (18.1.1)\n",
      "Requirement already satisfied: opt-einsum>=2.3.2 in c:\\users\\lenovo\\onedrive\\desktop\\ai_application\\venv\\lib\\site-packages (from tensorflow<2.20,>=2.19->tf-keras) (3.4.0)\n",
      "Requirement already satisfied: packaging in c:\\users\\lenovo\\onedrive\\desktop\\ai_application\\venv\\lib\\site-packages (from tensorflow<2.20,>=2.19->tf-keras) (24.2)\n",
      "Requirement already satisfied: protobuf!=4.21.0,!=4.21.1,!=4.21.2,!=4.21.3,!=4.21.4,!=4.21.5,<6.0.0dev,>=3.20.3 in c:\\users\\lenovo\\onedrive\\desktop\\ai_application\\venv\\lib\\site-packages (from tensorflow<2.20,>=2.19->tf-keras) (3.20.3)\n",
      "Requirement already satisfied: requests<3,>=2.21.0 in c:\\users\\lenovo\\onedrive\\desktop\\ai_application\\venv\\lib\\site-packages (from tensorflow<2.20,>=2.19->tf-keras) (2.32.4)\n",
      "Requirement already satisfied: setuptools in c:\\users\\lenovo\\onedrive\\desktop\\ai_application\\venv\\lib\\site-packages (from tensorflow<2.20,>=2.19->tf-keras) (80.9.0)\n",
      "Requirement already satisfied: six>=1.12.0 in c:\\users\\lenovo\\onedrive\\desktop\\ai_application\\venv\\lib\\site-packages (from tensorflow<2.20,>=2.19->tf-keras) (1.17.0)\n",
      "Requirement already satisfied: termcolor>=1.1.0 in c:\\users\\lenovo\\onedrive\\desktop\\ai_application\\venv\\lib\\site-packages (from tensorflow<2.20,>=2.19->tf-keras) (3.1.0)\n",
      "Requirement already satisfied: typing-extensions>=3.6.6 in c:\\users\\lenovo\\onedrive\\desktop\\ai_application\\venv\\lib\\site-packages (from tensorflow<2.20,>=2.19->tf-keras) (4.14.0)\n",
      "Requirement already satisfied: wrapt>=1.11.0 in c:\\users\\lenovo\\onedrive\\desktop\\ai_application\\venv\\lib\\site-packages (from tensorflow<2.20,>=2.19->tf-keras) (1.17.2)\n",
      "Requirement already satisfied: grpcio<2.0,>=1.24.3 in c:\\users\\lenovo\\onedrive\\desktop\\ai_application\\venv\\lib\\site-packages (from tensorflow<2.20,>=2.19->tf-keras) (1.73.1)\n",
      "Requirement already satisfied: tensorboard~=2.19.0 in c:\\users\\lenovo\\onedrive\\desktop\\ai_application\\venv\\lib\\site-packages (from tensorflow<2.20,>=2.19->tf-keras) (2.19.0)\n",
      "Requirement already satisfied: keras>=3.5.0 in c:\\users\\lenovo\\onedrive\\desktop\\ai_application\\venv\\lib\\site-packages (from tensorflow<2.20,>=2.19->tf-keras) (3.10.0)\n",
      "Requirement already satisfied: numpy<2.2.0,>=1.26.0 in c:\\users\\lenovo\\onedrive\\desktop\\ai_application\\venv\\lib\\site-packages (from tensorflow<2.20,>=2.19->tf-keras) (2.1.3)\n",
      "Requirement already satisfied: h5py>=3.11.0 in c:\\users\\lenovo\\onedrive\\desktop\\ai_application\\venv\\lib\\site-packages (from tensorflow<2.20,>=2.19->tf-keras) (3.14.0)\n",
      "Requirement already satisfied: ml-dtypes<1.0.0,>=0.5.1 in c:\\users\\lenovo\\onedrive\\desktop\\ai_application\\venv\\lib\\site-packages (from tensorflow<2.20,>=2.19->tf-keras) (0.5.1)\n",
      "Requirement already satisfied: wheel<1.0,>=0.23.0 in c:\\users\\lenovo\\onedrive\\desktop\\ai_application\\venv\\lib\\site-packages (from astunparse>=1.6.0->tensorflow<2.20,>=2.19->tf-keras) (0.45.1)\n",
      "Requirement already satisfied: rich in c:\\users\\lenovo\\onedrive\\desktop\\ai_application\\venv\\lib\\site-packages (from keras>=3.5.0->tensorflow<2.20,>=2.19->tf-keras) (14.0.0)\n",
      "Requirement already satisfied: namex in c:\\users\\lenovo\\onedrive\\desktop\\ai_application\\venv\\lib\\site-packages (from keras>=3.5.0->tensorflow<2.20,>=2.19->tf-keras) (0.1.0)\n",
      "Requirement already satisfied: optree in c:\\users\\lenovo\\onedrive\\desktop\\ai_application\\venv\\lib\\site-packages (from keras>=3.5.0->tensorflow<2.20,>=2.19->tf-keras) (0.16.0)\n",
      "Requirement already satisfied: charset_normalizer<4,>=2 in c:\\users\\lenovo\\onedrive\\desktop\\ai_application\\venv\\lib\\site-packages (from requests<3,>=2.21.0->tensorflow<2.20,>=2.19->tf-keras) (3.4.2)\n",
      "Requirement already satisfied: idna<4,>=2.5 in c:\\users\\lenovo\\onedrive\\desktop\\ai_application\\venv\\lib\\site-packages (from requests<3,>=2.21.0->tensorflow<2.20,>=2.19->tf-keras) (3.10)\n",
      "Requirement already satisfied: urllib3<3,>=1.21.1 in c:\\users\\lenovo\\onedrive\\desktop\\ai_application\\venv\\lib\\site-packages (from requests<3,>=2.21.0->tensorflow<2.20,>=2.19->tf-keras) (2.5.0)\n",
      "Requirement already satisfied: certifi>=2017.4.17 in c:\\users\\lenovo\\onedrive\\desktop\\ai_application\\venv\\lib\\site-packages (from requests<3,>=2.21.0->tensorflow<2.20,>=2.19->tf-keras) (2025.6.15)\n",
      "Requirement already satisfied: markdown>=2.6.8 in c:\\users\\lenovo\\onedrive\\desktop\\ai_application\\venv\\lib\\site-packages (from tensorboard~=2.19.0->tensorflow<2.20,>=2.19->tf-keras) (3.8.2)\n",
      "Requirement already satisfied: tensorboard-data-server<0.8.0,>=0.7.0 in c:\\users\\lenovo\\onedrive\\desktop\\ai_application\\venv\\lib\\site-packages (from tensorboard~=2.19.0->tensorflow<2.20,>=2.19->tf-keras) (0.7.2)\n",
      "Requirement already satisfied: werkzeug>=1.0.1 in c:\\users\\lenovo\\onedrive\\desktop\\ai_application\\venv\\lib\\site-packages (from tensorboard~=2.19.0->tensorflow<2.20,>=2.19->tf-keras) (3.1.3)\n",
      "Requirement already satisfied: MarkupSafe>=2.1.1 in c:\\users\\lenovo\\onedrive\\desktop\\ai_application\\venv\\lib\\site-packages (from werkzeug>=1.0.1->tensorboard~=2.19.0->tensorflow<2.20,>=2.19->tf-keras) (3.0.2)\n",
      "Requirement already satisfied: markdown-it-py>=2.2.0 in c:\\users\\lenovo\\onedrive\\desktop\\ai_application\\venv\\lib\\site-packages (from rich->keras>=3.5.0->tensorflow<2.20,>=2.19->tf-keras) (3.0.0)\n",
      "Requirement already satisfied: pygments<3.0.0,>=2.13.0 in c:\\users\\lenovo\\onedrive\\desktop\\ai_application\\venv\\lib\\site-packages (from rich->keras>=3.5.0->tensorflow<2.20,>=2.19->tf-keras) (2.19.1)\n",
      "Requirement already satisfied: mdurl~=0.1 in c:\\users\\lenovo\\onedrive\\desktop\\ai_application\\venv\\lib\\site-packages (from markdown-it-py>=2.2.0->rich->keras>=3.5.0->tensorflow<2.20,>=2.19->tf-keras) (0.1.2)\n"
     ]
    },
    {
     "name": "stderr",
     "output_type": "stream",
     "text": [
      "\n",
      "[notice] A new release of pip is available: 24.3.1 -> 25.1.1\n",
      "[notice] To update, run: python.exe -m pip install --upgrade pip\n"
     ]
    }
   ],
   "source": [
    "! pip install tf-keras"
   ]
  },
  {
   "cell_type": "code",
   "execution_count": 4,
   "id": "86e21f7b",
   "metadata": {},
   "outputs": [
    {
     "name": "stdout",
     "output_type": "stream",
     "text": [
      "Requirement already satisfied: keybert==0.7.0 in c:\\users\\lenovo\\onedrive\\desktop\\ai_application\\venv\\lib\\site-packages (0.7.0)\n",
      "Requirement already satisfied: sentence-transformers>=0.3.8 in c:\\users\\lenovo\\onedrive\\desktop\\ai_application\\venv\\lib\\site-packages (from keybert==0.7.0) (5.0.0)\n",
      "Requirement already satisfied: scikit-learn>=0.22.2 in c:\\users\\lenovo\\onedrive\\desktop\\ai_application\\venv\\lib\\site-packages (from keybert==0.7.0) (1.7.0)\n",
      "Requirement already satisfied: numpy>=1.18.5 in c:\\users\\lenovo\\onedrive\\desktop\\ai_application\\venv\\lib\\site-packages (from keybert==0.7.0) (2.1.3)\n",
      "Requirement already satisfied: rich>=10.4.0 in c:\\users\\lenovo\\onedrive\\desktop\\ai_application\\venv\\lib\\site-packages (from keybert==0.7.0) (14.0.0)\n",
      "Requirement already satisfied: markdown-it-py>=2.2.0 in c:\\users\\lenovo\\onedrive\\desktop\\ai_application\\venv\\lib\\site-packages (from rich>=10.4.0->keybert==0.7.0) (3.0.0)\n",
      "Requirement already satisfied: pygments<3.0.0,>=2.13.0 in c:\\users\\lenovo\\onedrive\\desktop\\ai_application\\venv\\lib\\site-packages (from rich>=10.4.0->keybert==0.7.0) (2.19.1)\n",
      "Requirement already satisfied: scipy>=1.8.0 in c:\\users\\lenovo\\onedrive\\desktop\\ai_application\\venv\\lib\\site-packages (from scikit-learn>=0.22.2->keybert==0.7.0) (1.15.3)\n",
      "Requirement already satisfied: joblib>=1.2.0 in c:\\users\\lenovo\\onedrive\\desktop\\ai_application\\venv\\lib\\site-packages (from scikit-learn>=0.22.2->keybert==0.7.0) (1.5.1)\n",
      "Requirement already satisfied: threadpoolctl>=3.1.0 in c:\\users\\lenovo\\onedrive\\desktop\\ai_application\\venv\\lib\\site-packages (from scikit-learn>=0.22.2->keybert==0.7.0) (3.6.0)\n",
      "Requirement already satisfied: transformers<5.0.0,>=4.41.0 in c:\\users\\lenovo\\onedrive\\desktop\\ai_application\\venv\\lib\\site-packages (from sentence-transformers>=0.3.8->keybert==0.7.0) (4.52.4)\n",
      "Requirement already satisfied: tqdm in c:\\users\\lenovo\\onedrive\\desktop\\ai_application\\venv\\lib\\site-packages (from sentence-transformers>=0.3.8->keybert==0.7.0) (4.67.1)\n",
      "Requirement already satisfied: torch>=1.11.0 in c:\\users\\lenovo\\onedrive\\desktop\\ai_application\\venv\\lib\\site-packages (from sentence-transformers>=0.3.8->keybert==0.7.0) (2.7.1)\n",
      "Requirement already satisfied: huggingface-hub>=0.20.0 in c:\\users\\lenovo\\onedrive\\desktop\\ai_application\\venv\\lib\\site-packages (from sentence-transformers>=0.3.8->keybert==0.7.0) (0.33.0)\n",
      "Requirement already satisfied: Pillow in c:\\users\\lenovo\\onedrive\\desktop\\ai_application\\venv\\lib\\site-packages (from sentence-transformers>=0.3.8->keybert==0.7.0) (11.2.1)\n",
      "Requirement already satisfied: typing_extensions>=4.5.0 in c:\\users\\lenovo\\onedrive\\desktop\\ai_application\\venv\\lib\\site-packages (from sentence-transformers>=0.3.8->keybert==0.7.0) (4.14.0)\n",
      "Requirement already satisfied: filelock in c:\\users\\lenovo\\onedrive\\desktop\\ai_application\\venv\\lib\\site-packages (from huggingface-hub>=0.20.0->sentence-transformers>=0.3.8->keybert==0.7.0) (3.18.0)\n",
      "Requirement already satisfied: fsspec>=2023.5.0 in c:\\users\\lenovo\\onedrive\\desktop\\ai_application\\venv\\lib\\site-packages (from huggingface-hub>=0.20.0->sentence-transformers>=0.3.8->keybert==0.7.0) (2025.3.0)\n",
      "Requirement already satisfied: packaging>=20.9 in c:\\users\\lenovo\\onedrive\\desktop\\ai_application\\venv\\lib\\site-packages (from huggingface-hub>=0.20.0->sentence-transformers>=0.3.8->keybert==0.7.0) (24.2)\n",
      "Requirement already satisfied: pyyaml>=5.1 in c:\\users\\lenovo\\onedrive\\desktop\\ai_application\\venv\\lib\\site-packages (from huggingface-hub>=0.20.0->sentence-transformers>=0.3.8->keybert==0.7.0) (6.0.2)\n",
      "Requirement already satisfied: requests in c:\\users\\lenovo\\onedrive\\desktop\\ai_application\\venv\\lib\\site-packages (from huggingface-hub>=0.20.0->sentence-transformers>=0.3.8->keybert==0.7.0) (2.32.4)\n",
      "Requirement already satisfied: mdurl~=0.1 in c:\\users\\lenovo\\onedrive\\desktop\\ai_application\\venv\\lib\\site-packages (from markdown-it-py>=2.2.0->rich>=10.4.0->keybert==0.7.0) (0.1.2)\n",
      "Requirement already satisfied: sympy>=1.13.3 in c:\\users\\lenovo\\onedrive\\desktop\\ai_application\\venv\\lib\\site-packages (from torch>=1.11.0->sentence-transformers>=0.3.8->keybert==0.7.0) (1.14.0)\n",
      "Requirement already satisfied: networkx in c:\\users\\lenovo\\onedrive\\desktop\\ai_application\\venv\\lib\\site-packages (from torch>=1.11.0->sentence-transformers>=0.3.8->keybert==0.7.0) (3.5)\n",
      "Requirement already satisfied: jinja2 in c:\\users\\lenovo\\onedrive\\desktop\\ai_application\\venv\\lib\\site-packages (from torch>=1.11.0->sentence-transformers>=0.3.8->keybert==0.7.0) (3.1.6)\n",
      "Requirement already satisfied: setuptools in c:\\users\\lenovo\\onedrive\\desktop\\ai_application\\venv\\lib\\site-packages (from torch>=1.11.0->sentence-transformers>=0.3.8->keybert==0.7.0) (80.9.0)\n",
      "Requirement already satisfied: colorama in c:\\users\\lenovo\\onedrive\\desktop\\ai_application\\venv\\lib\\site-packages (from tqdm->sentence-transformers>=0.3.8->keybert==0.7.0) (0.4.6)\n",
      "Requirement already satisfied: regex!=2019.12.17 in c:\\users\\lenovo\\onedrive\\desktop\\ai_application\\venv\\lib\\site-packages (from transformers<5.0.0,>=4.41.0->sentence-transformers>=0.3.8->keybert==0.7.0) (2024.11.6)\n",
      "Requirement already satisfied: tokenizers<0.22,>=0.21 in c:\\users\\lenovo\\onedrive\\desktop\\ai_application\\venv\\lib\\site-packages (from transformers<5.0.0,>=4.41.0->sentence-transformers>=0.3.8->keybert==0.7.0) (0.21.1)\n",
      "Requirement already satisfied: safetensors>=0.4.3 in c:\\users\\lenovo\\onedrive\\desktop\\ai_application\\venv\\lib\\site-packages (from transformers<5.0.0,>=4.41.0->sentence-transformers>=0.3.8->keybert==0.7.0) (0.5.3)\n",
      "Requirement already satisfied: mpmath<1.4,>=1.1.0 in c:\\users\\lenovo\\onedrive\\desktop\\ai_application\\venv\\lib\\site-packages (from sympy>=1.13.3->torch>=1.11.0->sentence-transformers>=0.3.8->keybert==0.7.0) (1.3.0)\n",
      "Requirement already satisfied: MarkupSafe>=2.0 in c:\\users\\lenovo\\onedrive\\desktop\\ai_application\\venv\\lib\\site-packages (from jinja2->torch>=1.11.0->sentence-transformers>=0.3.8->keybert==0.7.0) (3.0.2)\n",
      "Requirement already satisfied: charset_normalizer<4,>=2 in c:\\users\\lenovo\\onedrive\\desktop\\ai_application\\venv\\lib\\site-packages (from requests->huggingface-hub>=0.20.0->sentence-transformers>=0.3.8->keybert==0.7.0) (3.4.2)\n",
      "Requirement already satisfied: idna<4,>=2.5 in c:\\users\\lenovo\\onedrive\\desktop\\ai_application\\venv\\lib\\site-packages (from requests->huggingface-hub>=0.20.0->sentence-transformers>=0.3.8->keybert==0.7.0) (3.10)\n",
      "Requirement already satisfied: urllib3<3,>=1.21.1 in c:\\users\\lenovo\\onedrive\\desktop\\ai_application\\venv\\lib\\site-packages (from requests->huggingface-hub>=0.20.0->sentence-transformers>=0.3.8->keybert==0.7.0) (2.5.0)\n",
      "Requirement already satisfied: certifi>=2017.4.17 in c:\\users\\lenovo\\onedrive\\desktop\\ai_application\\venv\\lib\\site-packages (from requests->huggingface-hub>=0.20.0->sentence-transformers>=0.3.8->keybert==0.7.0) (2025.6.15)\n"
     ]
    },
    {
     "name": "stderr",
     "output_type": "stream",
     "text": [
      "\n",
      "[notice] A new release of pip is available: 24.3.1 -> 25.1.1\n",
      "[notice] To update, run: python.exe -m pip install --upgrade pip\n"
     ]
    }
   ],
   "source": [
    "! pip install keybert==0.7.0"
   ]
  },
  {
   "cell_type": "code",
   "execution_count": 5,
   "id": "32e12a79",
   "metadata": {},
   "outputs": [
    {
     "name": "stdout",
     "output_type": "stream",
     "text": [
      "Requirement already satisfied: protobuf==3.20.3 in c:\\users\\lenovo\\onedrive\\desktop\\ai_application\\venv\\lib\\site-packages (3.20.3)\n"
     ]
    },
    {
     "name": "stderr",
     "output_type": "stream",
     "text": [
      "\n",
      "[notice] A new release of pip is available: 24.3.1 -> 25.1.1\n",
      "[notice] To update, run: python.exe -m pip install --upgrade pip\n"
     ]
    }
   ],
   "source": [
    "! pip install protobuf==3.20.3"
   ]
  },
  {
   "cell_type": "code",
   "execution_count": 6,
   "id": "8085a87b",
   "metadata": {},
   "outputs": [
    {
     "name": "stdout",
     "output_type": "stream",
     "text": [
      "Requirement already satisfied: datasets in c:\\users\\lenovo\\onedrive\\desktop\\ai_application\\venv\\lib\\site-packages (3.6.0)\n",
      "Requirement already satisfied: filelock in c:\\users\\lenovo\\onedrive\\desktop\\ai_application\\venv\\lib\\site-packages (from datasets) (3.18.0)\n",
      "Requirement already satisfied: numpy>=1.17 in c:\\users\\lenovo\\onedrive\\desktop\\ai_application\\venv\\lib\\site-packages (from datasets) (2.1.3)\n",
      "Requirement already satisfied: pyarrow>=15.0.0 in c:\\users\\lenovo\\onedrive\\desktop\\ai_application\\venv\\lib\\site-packages (from datasets) (20.0.0)\n",
      "Requirement already satisfied: dill<0.3.9,>=0.3.0 in c:\\users\\lenovo\\onedrive\\desktop\\ai_application\\venv\\lib\\site-packages (from datasets) (0.3.8)\n",
      "Requirement already satisfied: pandas in c:\\users\\lenovo\\onedrive\\desktop\\ai_application\\venv\\lib\\site-packages (from datasets) (2.2.3)\n",
      "Requirement already satisfied: requests>=2.32.2 in c:\\users\\lenovo\\onedrive\\desktop\\ai_application\\venv\\lib\\site-packages (from datasets) (2.32.4)\n",
      "Requirement already satisfied: tqdm>=4.66.3 in c:\\users\\lenovo\\onedrive\\desktop\\ai_application\\venv\\lib\\site-packages (from datasets) (4.67.1)\n",
      "Requirement already satisfied: xxhash in c:\\users\\lenovo\\onedrive\\desktop\\ai_application\\venv\\lib\\site-packages (from datasets) (3.5.0)\n",
      "Requirement already satisfied: multiprocess<0.70.17 in c:\\users\\lenovo\\onedrive\\desktop\\ai_application\\venv\\lib\\site-packages (from datasets) (0.70.16)\n",
      "Requirement already satisfied: fsspec<=2025.3.0,>=2023.1.0 in c:\\users\\lenovo\\onedrive\\desktop\\ai_application\\venv\\lib\\site-packages (from fsspec[http]<=2025.3.0,>=2023.1.0->datasets) (2025.3.0)\n",
      "Requirement already satisfied: huggingface-hub>=0.24.0 in c:\\users\\lenovo\\onedrive\\desktop\\ai_application\\venv\\lib\\site-packages (from datasets) (0.33.0)\n",
      "Requirement already satisfied: packaging in c:\\users\\lenovo\\onedrive\\desktop\\ai_application\\venv\\lib\\site-packages (from datasets) (24.2)\n",
      "Requirement already satisfied: pyyaml>=5.1 in c:\\users\\lenovo\\onedrive\\desktop\\ai_application\\venv\\lib\\site-packages (from datasets) (6.0.2)\n",
      "Requirement already satisfied: aiohttp!=4.0.0a0,!=4.0.0a1 in c:\\users\\lenovo\\onedrive\\desktop\\ai_application\\venv\\lib\\site-packages (from fsspec[http]<=2025.3.0,>=2023.1.0->datasets) (3.12.13)\n",
      "Requirement already satisfied: typing-extensions>=3.7.4.3 in c:\\users\\lenovo\\onedrive\\desktop\\ai_application\\venv\\lib\\site-packages (from huggingface-hub>=0.24.0->datasets) (4.14.0)\n",
      "Requirement already satisfied: charset_normalizer<4,>=2 in c:\\users\\lenovo\\onedrive\\desktop\\ai_application\\venv\\lib\\site-packages (from requests>=2.32.2->datasets) (3.4.2)\n",
      "Requirement already satisfied: idna<4,>=2.5 in c:\\users\\lenovo\\onedrive\\desktop\\ai_application\\venv\\lib\\site-packages (from requests>=2.32.2->datasets) (3.10)\n",
      "Requirement already satisfied: urllib3<3,>=1.21.1 in c:\\users\\lenovo\\onedrive\\desktop\\ai_application\\venv\\lib\\site-packages (from requests>=2.32.2->datasets) (2.5.0)\n",
      "Requirement already satisfied: certifi>=2017.4.17 in c:\\users\\lenovo\\onedrive\\desktop\\ai_application\\venv\\lib\\site-packages (from requests>=2.32.2->datasets) (2025.6.15)\n",
      "Requirement already satisfied: colorama in c:\\users\\lenovo\\onedrive\\desktop\\ai_application\\venv\\lib\\site-packages (from tqdm>=4.66.3->datasets) (0.4.6)\n",
      "Requirement already satisfied: python-dateutil>=2.8.2 in c:\\users\\lenovo\\onedrive\\desktop\\ai_application\\venv\\lib\\site-packages (from pandas->datasets) (2.9.0.post0)\n",
      "Requirement already satisfied: pytz>=2020.1 in c:\\users\\lenovo\\onedrive\\desktop\\ai_application\\venv\\lib\\site-packages (from pandas->datasets) (2025.2)\n",
      "Requirement already satisfied: tzdata>=2022.7 in c:\\users\\lenovo\\onedrive\\desktop\\ai_application\\venv\\lib\\site-packages (from pandas->datasets) (2025.2)\n",
      "Requirement already satisfied: aiohappyeyeballs>=2.5.0 in c:\\users\\lenovo\\onedrive\\desktop\\ai_application\\venv\\lib\\site-packages (from aiohttp!=4.0.0a0,!=4.0.0a1->fsspec[http]<=2025.3.0,>=2023.1.0->datasets) (2.6.1)\n",
      "Requirement already satisfied: aiosignal>=1.1.2 in c:\\users\\lenovo\\onedrive\\desktop\\ai_application\\venv\\lib\\site-packages (from aiohttp!=4.0.0a0,!=4.0.0a1->fsspec[http]<=2025.3.0,>=2023.1.0->datasets) (1.4.0)\n",
      "Requirement already satisfied: attrs>=17.3.0 in c:\\users\\lenovo\\onedrive\\desktop\\ai_application\\venv\\lib\\site-packages (from aiohttp!=4.0.0a0,!=4.0.0a1->fsspec[http]<=2025.3.0,>=2023.1.0->datasets) (25.3.0)\n",
      "Requirement already satisfied: frozenlist>=1.1.1 in c:\\users\\lenovo\\onedrive\\desktop\\ai_application\\venv\\lib\\site-packages (from aiohttp!=4.0.0a0,!=4.0.0a1->fsspec[http]<=2025.3.0,>=2023.1.0->datasets) (1.7.0)\n",
      "Requirement already satisfied: multidict<7.0,>=4.5 in c:\\users\\lenovo\\onedrive\\desktop\\ai_application\\venv\\lib\\site-packages (from aiohttp!=4.0.0a0,!=4.0.0a1->fsspec[http]<=2025.3.0,>=2023.1.0->datasets) (6.6.3)\n",
      "Requirement already satisfied: propcache>=0.2.0 in c:\\users\\lenovo\\onedrive\\desktop\\ai_application\\venv\\lib\\site-packages (from aiohttp!=4.0.0a0,!=4.0.0a1->fsspec[http]<=2025.3.0,>=2023.1.0->datasets) (0.3.2)\n",
      "Requirement already satisfied: yarl<2.0,>=1.17.0 in c:\\users\\lenovo\\onedrive\\desktop\\ai_application\\venv\\lib\\site-packages (from aiohttp!=4.0.0a0,!=4.0.0a1->fsspec[http]<=2025.3.0,>=2023.1.0->datasets) (1.20.1)\n",
      "Requirement already satisfied: six>=1.5 in c:\\users\\lenovo\\onedrive\\desktop\\ai_application\\venv\\lib\\site-packages (from python-dateutil>=2.8.2->pandas->datasets) (1.17.0)\n"
     ]
    },
    {
     "name": "stderr",
     "output_type": "stream",
     "text": [
      "\n",
      "[notice] A new release of pip is available: 24.3.1 -> 25.1.1\n",
      "[notice] To update, run: python.exe -m pip install --upgrade pip\n"
     ]
    }
   ],
   "source": [
    "! pip install datasets"
   ]
  },
  {
   "cell_type": "code",
   "execution_count": 9,
   "id": "331a10eb",
   "metadata": {},
   "outputs": [
    {
     "name": "stdout",
     "output_type": "stream",
     "text": [
      "[('radcliffe', 0.5665), ('potter', 0.4437), ('harry', 0.4428), ('celebrity', 0.3038), ('extravagant', 0.278), ('birthday', 0.268), ('daniel', 0.2615), ('actor', 0.2613), ('london', 0.2448), ('riches', 0.24)]\n"
     ]
    }
   ],
   "source": [
    "\n",
    "from keybert import KeyBERT\n",
    "from datasets import load_dataset\n",
    "\n",
    "kw_model = KeyBERT()\n",
    "dataset = load_dataset(\"cnn_dailymail\", '3.0.0', split='train[:50]')\n",
    "text = dataset[0]['article']\n",
    "keywords = kw_model.extract_keywords(text, top_n=10)\n",
    "print(keywords)\n",
    "\n"
   ]
  },
  {
   "cell_type": "code",
   "execution_count": 8,
   "id": "eed5944b",
   "metadata": {},
   "outputs": [
    {
     "name": "stdout",
     "output_type": "stream",
     "text": [
      "News Snippet:\n",
      " MINNEAPOLIS, Minnesota (CNN) -- Drivers who were on the Minneapolis bridge when it collapsed told harrowing tales of survival. \"The whole bridge from one side of the Mississippi to the other just completely gave way, fell all the way down,\" survivor Gary Babineau told CNN. \"I probably had a 30-, 35-\n",
      "\n",
      "Extracted Keywords:\n",
      " [('minneapolis', 0.3758), ('ambulances', 0.3362), ('rescuers', 0.3361), ('mississippi', 0.3282), ('minnesota', 0.3275), ('bridge', 0.3205), ('emergency', 0.3164), ('rescue', 0.3123), ('disaster', 0.3121), ('driver', 0.3093)]\n"
     ]
    }
   ],
   "source": [
    "from keybert import KeyBERT\n",
    "from datasets import load_dataset\n",
    "\n",
    "\n",
    "kw_model = KeyBERT()\n",
    "\n",
    "\n",
    "dataset = load_dataset(\"cnn_dailymail\", \"3.0.0\", split=\"train[:50]\")\n",
    "\n",
    "\n",
    "text = dataset[2]['article']\n",
    "\n",
    "\n",
    "keywords = kw_model.extract_keywords(text, top_n=10)\n",
    "\n",
    "\n",
    "print(\"News Snippet:\\n\", text[:300])\n",
    "print(\"\\nExtracted Keywords:\\n\", keywords)\n"
   ]
  },
  {
   "cell_type": "markdown",
   "id": "05beea4b",
   "metadata": {},
   "source": [
    "Modify the index to change which article want. \n",
    "Remember start from 0.\n",
    "Modify the train[:n] to change how many article you want to load "
   ]
  },
  {
   "cell_type": "code",
   "execution_count": 10,
   "id": "40957ac0",
   "metadata": {},
   "outputs": [
    {
     "name": "stdout",
     "output_type": "stream",
     "text": [
      "\n",
      "📰 no. 11 Articles：\n",
      "WASHINGTON (CNN) -- As he awaits a crucial progress report on Iraq, President Bush will try to put a twist on comparisons of the war to Vietnam by invoking the historical lessons of that conflict to argue against pulling out. President Bush pauses Tuesday during a news conference at the  North American Leaders summit in Canada. On Wednesday in Kansas City, Missouri, Bush will tell members of the Veterans of Foreign Wars that \"then, as now, people argued that the real problem was America's presen\n",
      "\n",
      "📄 highlights：\n",
      " President Bush to address the Veterans of Foreign Wars on Wednesday .\n",
      "Bush to say that withdrawing from Vietnam emboldened today's terrorists .\n",
      "Speech will be latest White House attempt to try to reframe the debate over Iraq .\n",
      "\n",
      "🔑 keywords：\n",
      "- vietnam\n",
      "- veterans\n",
      "- iraq\n",
      "- troops\n",
      "- iraqi\n",
      "- war\n",
      "- wars\n",
      "- bush\n",
      "- surrender\n",
      "- debate\n"
     ]
    }
   ],
   "source": [
    "from keybert import KeyBERT\n",
    "from datasets import load_dataset\n",
    "\n",
    "\n",
    "kw_model = KeyBERT()\n",
    "\n",
    "dataset = load_dataset(\"cnn_dailymail\", \"3.0.0\", split=\"train[:11]\")\n",
    "\n",
    "index = 10\n",
    "article = dataset[index]['article']\n",
    "highlight = dataset[index]['highlights']\n",
    "\n",
    "\n",
    "keywords = kw_model.extract_keywords(article, top_n=10)\n",
    "\n",
    "\n",
    "print(f\"\\n📰 no. {index + 1} Articles：\\n{article[:500]}\")\n",
    "print(\"\\n📄 highlights：\\n\", highlight)\n",
    "print(\"\\n🔑 keywords：\")\n",
    "for kw in keywords:\n",
    "    print(\"-\", kw[0])\n"
   ]
  },
  {
   "cell_type": "markdown",
   "id": "54f43a79",
   "metadata": {},
   "source": [
    "This code will save the keywords at the txt file after run the code below"
   ]
  },
  {
   "cell_type": "code",
   "execution_count": 11,
   "id": "600d90ce",
   "metadata": {},
   "outputs": [],
   "source": [
    "\n",
    "with open(\"output.txt\", \"w\", encoding=\"utf-8\") as f:\n",
    "    f.write(f\"📰 no. {index + 1} Articles（First 500 words）：\\n{article[:500]}\\n\\n\")\n",
    "    f.write(f\"📄 highlights：\\n{highlight}\\n\\n\")\n",
    "    f.write(\"🔑 keywords：\\n\")\n",
    "    for kw in keywords:\n",
    "        f.write(f\"- {kw[0]}\\n\")"
   ]
  },
  {
   "cell_type": "markdown",
   "id": "2ce9a5bc",
   "metadata": {},
   "source": [
    "Modify the range(n) to change how many article you want."
   ]
  },
  {
   "cell_type": "code",
   "execution_count": 12,
   "id": "383de44b",
   "metadata": {},
   "outputs": [
    {
     "name": "stdout",
     "output_type": "stream",
     "text": [
      "\n",
      "Article 1:\n",
      "LONDON, England (Reuters) -- Harry Potter star Daniel Radcliffe gains access to a reported £20 million ($41.1 million) fortune as he turns 18 on Monday, but he insists the money won't cast a spell on him. Daniel Radcliffe as Harry Potter in \"Harry Potter and the Order of the Phoenix\" To the disappointment of gossip columnists around the world, the young actor says he has no plans to fritter his cash away on fast cars, drink and celebrity parties. \"I don't plan to be one of those people who, as soon as they turn 18, suddenly buy themselves a massive sports car collection or something similar,\" he told an Australian interviewer earlier this month. \"I don't think I'll be particularly extravagant. \"The things I like buying are things that cost about 10 pounds -- books and CDs and DVDs.\" At 18, Radcliffe will be able to gamble in a casino, buy a drink in a pub or see the horror film \"Hostel: Part II,\" currently six places below his number one movie on the UK box office chart. Details of how\n",
      "\n",
      "Top Keywords:\n",
      "- radcliffe\n",
      "- potter\n",
      "- harry\n",
      "- celebrity\n",
      "- extravagant\n",
      "\n",
      "Article 2:\n",
      "Editor's note: In our Behind the Scenes series, CNN correspondents share their experiences in covering news and analyze the stories behind the events. Here, Soledad O'Brien takes users inside a jail where many of the inmates are mentally ill. An inmate housed on the \"forgotten floor,\" where many mentally ill inmates are housed in Miami before trial. MIAMI, Florida (CNN) -- The ninth floor of the Miami-Dade pretrial detention facility is dubbed the \"forgotten floor.\" Here, inmates with the most severe mental illnesses are incarcerated until they're ready to appear in court. Most often, they face drug charges or charges of assaulting an officer --charges that Judge Steven Leifman says are usually \"avoidable felonies.\" He says the arrests often result from confrontations with police. Mentally ill people often won't do what they're told when police arrive on the scene -- confrontation seems to exacerbate their illness and they become more paranoid, delusional, and less likely to follow dir\n",
      "\n",
      "Top Keywords:\n",
      "- inmates\n",
      "- incarcerated\n",
      "- inmate\n",
      "- detention\n",
      "- jail\n",
      "\n",
      "Article 3:\n",
      "MINNEAPOLIS, Minnesota (CNN) -- Drivers who were on the Minneapolis bridge when it collapsed told harrowing tales of survival. \"The whole bridge from one side of the Mississippi to the other just completely gave way, fell all the way down,\" survivor Gary Babineau told CNN. \"I probably had a 30-, 35-foot free fall. And there's cars in the water, there's cars on fire. The whole bridge is down.\" He said his back was injured but he determined he could move around. \"I realized there was a school bus right next to me, and me and a couple of other guys went over and started lifting the kids off the bridge. They were yelling, screaming, bleeding. I think there were some broken bones.\"  Watch a driver describe his narrow escape » . At home when he heard about the disaster, Dr. John Hink, an emergency room physician, jumped into his car and rushed to the scene in 15 minutes. He arrived at the south side of the bridge, stood on the riverbank and saw dozens of people lying dazed on an expansive de\n",
      "\n",
      "Top Keywords:\n",
      "- minneapolis\n",
      "- ambulances\n",
      "- rescuers\n",
      "- mississippi\n",
      "- minnesota\n",
      "\n",
      "Article 4:\n",
      "WASHINGTON (CNN) -- Doctors removed five small polyps from President Bush's colon on Saturday, and \"none appeared worrisome,\" a White House spokesman said. The polyps were removed and sent to the National Naval Medical Center in Bethesda, Maryland, for routine microscopic examination, spokesman Scott Stanzel said. Results are expected in two to three days. All were small, less than a centimeter [half an inch] in diameter, he said. Bush is in good humor, Stanzel said, and will resume his activities at Camp David. During the procedure Vice President Dick Cheney assumed presidential power. Bush reclaimed presidential power at 9:21 a.m. after about two hours. Doctors used \"monitored anesthesia care,\" Stanzel said, so the president was asleep, but not as deeply unconscious as with a true general anesthetic. He spoke to first lady Laura Bush -- who is in Midland, Texas, celebrating her mother's birthday -- before and after the procedure, Stanzel said. Afterward, the president played with his\n",
      "\n",
      "Top Keywords:\n",
      "- presidential\n",
      "- cheney\n",
      "- anesthesia\n",
      "- undergoing\n",
      "- president\n",
      "\n",
      "Article 5:\n",
      "(CNN)  -- The National Football League has indefinitely suspended Atlanta Falcons quarterback Michael Vick without pay, officials with the league said Friday. NFL star Michael Vick is set to appear in court Monday. A judge will have the final say on a plea deal. Earlier, Vick admitted to participating in a dogfighting ring as part of a plea agreement with federal prosecutors in Virginia. \"Your admitted conduct was not only illegal, but also cruel and reprehensible. Your team, the NFL, and NFL fans have all been hurt by your actions,\" NFL Commissioner Roger Goodell said in a letter to Vick. Goodell said he would review the status of the suspension after the legal proceedings are over. In papers filed Friday with a federal court in Virginia, Vick also admitted that he and two co-conspirators killed dogs that did not fight well. Falcons owner Arthur Blank said Vick's admissions describe actions that are \"incomprehensible and unacceptable.\" The suspension makes \"a strong statement that con\n",
      "\n",
      "Top Keywords:\n",
      "- vick\n",
      "- falcons\n",
      "- suspended\n",
      "- nfl\n",
      "- quarterback\n",
      "\n",
      "Article 6:\n",
      "BAGHDAD, Iraq (CNN) -- Dressed in a Superman shirt, 5-year-old Youssif held his sister's hand Friday, seemingly unaware that millions of people across the world have been touched by his story. Nearby, his parents talked about the new future and hope they have for their boy -- and the potential for recovery from his severe burns. Youssif holds his sister's hand Friday. He's wearing a facial mask often used to help burn victims. It's the best birthday present the Iraqi family could ever have imagined for their boy: Youssif turns 6 next Friday. \"I was so happy I didn't know what to do with myself,\" his mother, Zainab, told CNN, a broad smile across her face. \"I didn't think the reaction would be this big.\" His father said he was on the roof of his house when CNN called him with the news about the outpouring of support for his son. \"We just want to thank everyone who has come forward,\" he said. \"We knew there was kindness out there.\" Like his wife, he couldn't stop smiling. He talked about\n",
      "\n",
      "Top Keywords:\n",
      "- youssif\n",
      "- baghdad\n",
      "- iraq\n",
      "- iraqi\n",
      "- facial\n",
      "\n",
      "Article 7:\n",
      "BAGHDAD, Iraq (CNN) -- The women are too afraid and ashamed to show their faces or have their real names used. They have been driven to sell their bodies to put food on the table for their children -- for as little as $8 a day. Suha, 37, is a mother of three. She says her husband thinks she is cleaning houses when she leaves home. \"People shouldn't criticize women, or talk badly about them,\" says 37-year-old Suha as she adjusts the light colored scarf she wears these days to avoid extremists who insist women cover themselves. \"They all say we have lost our way, but they never ask why we had to take this path.\" A mother of three, she wears light makeup, a gold pendant of Iraq around her neck, and an unexpected air of elegance about her. \"I don't have money to take my kid to the doctor. I have to do anything that I can to preserve my child, because I am a mother,\" she says, explaining why she prostitutes herself. Anger and frustration rise in her voice as she speaks. \"No matter what else\n",
      "\n",
      "Top Keywords:\n",
      "- baghdad\n",
      "- iraqi\n",
      "- mother\n",
      "- suha\n",
      "- iraq\n"
     ]
    }
   ],
   "source": [
    "for i in range(7):  \n",
    "    text = dataset[i]['article']\n",
    "    print(f\"\\nArticle {i+1}:\\n{text[:1000]}\")\n",
    "    print(\"\\nTop Keywords:\")\n",
    "    keywords = kw_model.extract_keywords(text, top_n=5)\n",
    "    for kw in keywords:\n",
    "        print(\"-\", kw[0])"
   ]
  },
  {
   "cell_type": "markdown",
   "id": "74bd4b47",
   "metadata": {},
   "source": [
    "This code will save the keywords at the txt file after run the code below"
   ]
  },
  {
   "cell_type": "code",
   "execution_count": 13,
   "id": "33c691d9",
   "metadata": {},
   "outputs": [],
   "source": [
    "with open(\"keyword_results.txt\", \"w\", encoding=\"utf-8\") as f:\n",
    "    for i in range(5):\n",
    "        text = dataset[i]['article']\n",
    "        keywords = kw_model.extract_keywords(text, top_n=5)\n",
    "        f.write(f\"\\nArticle {i+1}\\n{text[:300]}\\n\")\n",
    "        f.write(\"Keywords:\\n\")\n",
    "        for kw in keywords:\n",
    "            f.write(f\"- {kw[0]}\\n\")\n"
   ]
  }
 ],
 "metadata": {
  "kernelspec": {
   "display_name": "venv",
   "language": "python",
   "name": "python3"
  },
  "language_info": {
   "codemirror_mode": {
    "name": "ipython",
    "version": 3
   },
   "file_extension": ".py",
   "mimetype": "text/x-python",
   "name": "python",
   "nbconvert_exporter": "python",
   "pygments_lexer": "ipython3",
   "version": "3.12.8"
  }
 },
 "nbformat": 4,
 "nbformat_minor": 5
}
